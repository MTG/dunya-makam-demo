{
 "cells": [
  {
   "cell_type": "code",
   "execution_count": 1,
   "metadata": {
    "collapsed": true
   },
   "outputs": [],
   "source": [
    "from compmusic.extractors.makam import pitch\n",
    "from fileoperations.fileoperations import getFileNamesInDir\n",
    "import os\n",
    "import numpy\n",
    "\n",
    "import pdb"
   ]
  },
  {
   "cell_type": "code",
   "execution_count": 2,
   "metadata": {
    "collapsed": false
   },
   "outputs": [],
   "source": [
    "datafolder = './data/'\n",
    "audiofiles, audiofolders, audionames = getFileNamesInDir(datafolder, keyword='*.wav')\n",
    "\n",
    "extractor = pitch.PitchExtractMakam()"
   ]
  },
  {
   "cell_type": "code",
   "execution_count": 3,
   "metadata": {
    "collapsed": false
   },
   "outputs": [
    {
     "name": "stdout",
     "output_type": "stream",
     "text": [
      "37dd6a6a-4c19-4a86-886a-882840d59518.wav\n",
      "dfc16e22-0aae-4bd0-a32c-5c000130e96a.wav\n",
      "4948c836-5485-4a69-8bdc-11fe4559e78f.wav\n",
      "96aea15f-3778-4632-824a-af48544cf0cb.wav\n",
      "727cff89-392f-4d15-926d-63b2697d7f3f.wav\n",
      "37dd6a6a-4c19-4a86-886a-882840d59518.wav\n",
      "5c14ad3d-a97a-4e04-99b6-bf27f842f909.wav\n",
      "9c26ff74-8541-4282-8a6e-5ba9aa5cc8a1.wav\n",
      "e72db0ad-2ed9-467b-88ae-1f91edcd2c59.wav\n"
     ]
    }
   ],
   "source": [
    "for afile, afolder, aname in zip(audiofiles, audiofolders, audionames):\n",
    "    print aname\n",
    "\n",
    "    savefile = os.path.join(afolder, 'predominantMelody.mat')\n",
    "    if not os.path.isfile(savefile):\n",
    "        melody = extractor.run('', afile)\n",
    "\n",
    "        # save matlab file\n",
    "        with open(savefile, 'w') as f:\n",
    "            f.write(melody['matlab'])\n"
   ]
  },
  {
   "cell_type": "code",
   "execution_count": null,
   "metadata": {
    "collapsed": true
   },
   "outputs": [],
   "source": []
  }
 ],
 "metadata": {
  "kernelspec": {
   "display_name": "Python 2",
   "language": "python",
   "name": "python2"
  },
  "language_info": {
   "codemirror_mode": {
    "name": "ipython",
    "version": 2
   },
   "file_extension": ".py",
   "mimetype": "text/x-python",
   "name": "python",
   "nbconvert_exporter": "python",
   "pygments_lexer": "ipython2",
   "version": "2.7.10"
  }
 },
 "nbformat": 4,
 "nbformat_minor": 0
}
