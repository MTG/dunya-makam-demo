{
 "cells": [
  {
   "cell_type": "code",
   "execution_count": null,
   "metadata": {
    "collapsed": false
   },
   "outputs": [],
   "source": [
    "%matplotlib inline\n",
    "\n",
    "from fileoperations.fileoperations import getFileNamesInDir\n",
    "import os\n",
    "import json\n",
    "import numpy as np\n",
    "from alignednotemodel.PitchDistribution import hz_to_cent, cent_to_hz\n",
    "from alignednotemodel import alignednotemodel\n",
    "import matplotlib.pyplot as plt\n",
    "\n",
    "import pdb"
   ]
  },
  {
   "cell_type": "code",
   "execution_count": null,
   "metadata": {
    "collapsed": false
   },
   "outputs": [],
   "source": [
    "datafolder = '../../data/'\n",
    "pitchfiles, pitchfolders, pitchnames = getFileNamesInDir(datafolder, \n",
    "                                                         keyword='correctedPredominantMelody.json')\n",
    "tonicfiles = [os.path.join(pf, 'tonic.json') for pf in pitchfolders]\n",
    "tuningfiles = [os.path.join(pf, 'tuning.json') for pf in pitchfolders]\n",
    "notefiles = [os.path.join(pf, 'alignedNotes.json') for pf in pitchfolders]\n",
    "savemodelfiles = [os.path.join(pf, 'noteModels.json') for pf in pitchfolders]"
   ]
  },
  {
   "cell_type": "code",
   "execution_count": null,
   "metadata": {
    "collapsed": false
   },
   "outputs": [],
   "source": [
    "for pf, tf, tu, nf, sm in zip(pitchfiles, tonicfiles, tuningfiles, notefiles, savemodelfiles):\n",
    "    pitch = np.array(json.load(open(pf, 'r'))['pitch'])\n",
    "    \n",
    "    alignednotes = json.load(open(nf, 'r'))['notes']\n",
    "    tonic = json.load(open(tf, 'r'))['scoreInformed']\n",
    "    tuning = json.load(open(tu, 'r'))['scoreInformed']\n",
    "\n",
    "    noteModels, pitchDistibution, newTonic = alignednotemodel.getModels(pitch, alignednotes, tonic, \n",
    "                                                                        tuning, kernel_width=7.5)\n",
    "    \n",
    "    json.dump(noteModels, open(sm, 'w'))\n",
    "    "
   ]
  },
  {
   "cell_type": "code",
   "execution_count": null,
   "metadata": {
    "collapsed": false
   },
   "outputs": [],
   "source": [
    "#fig, (ax1, ax2) = alignednotemodel.plot(noteModels, pitchDistibution, alignednotes, pitch, tonic)\n",
    "#plt.show()"
   ]
  },
  {
   "cell_type": "code",
   "execution_count": null,
   "metadata": {
    "collapsed": true
   },
   "outputs": [],
   "source": []
  }
 ],
 "metadata": {
  "kernelspec": {
   "display_name": "Python 2",
   "language": "python",
   "name": "python2"
  },
  "language_info": {
   "codemirror_mode": {
    "name": "ipython",
    "version": 2
   },
   "file_extension": ".py",
   "mimetype": "text/x-python",
   "name": "python",
   "nbconvert_exporter": "python",
   "pygments_lexer": "ipython2",
   "version": "2.7.10"
  }
 },
 "nbformat": 4,
 "nbformat_minor": 0
}
