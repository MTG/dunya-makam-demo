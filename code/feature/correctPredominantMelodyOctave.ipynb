{
 "cells": [
  {
   "cell_type": "code",
   "execution_count": 1,
   "metadata": {
    "collapsed": false
   },
   "outputs": [],
   "source": [
    "from fileoperations.fileoperations import getFileNamesInDir\n",
    "import os\n",
    "import json\n",
    "import numpy\n",
    "from scipy.io import loadmat\n",
    "from alignedpitchfilter.alignedpitchfilter import correctOctaveErrors\n",
    "\n",
    "import pdb"
   ]
  },
  {
   "cell_type": "code",
   "execution_count": 2,
   "metadata": {
    "collapsed": false
   },
   "outputs": [],
   "source": [
    "datafolder = '../../data/'\n",
    "pitchfiles, pitchfolders, pitchnames = getFileNamesInDir(datafolder, keyword='predominantMelody.mat')\n",
    "notefiles = [os.path.join(pf, 'alignedNotes.json') for pf in pitchfolders]\n",
    "\n",
    "savepitchfiles = [os.path.join(pf, 'correctedPredominantMelody.json') for pf in pitchfolders]\n",
    "savenotefiles = [os.path.join(pf, 'correctedAlignedNotes.json') for pf in pitchfolders]\n"
   ]
  },
  {
   "cell_type": "code",
   "execution_count": 3,
   "metadata": {
    "collapsed": false
   },
   "outputs": [],
   "source": [
    "for pf, nf, sp, sn in zip(pitchfiles, notefiles, savepitchfiles, savenotefiles):\n",
    "    pitch = loadmat(pf)\n",
    "    alignednotes = json.load(open(nf, 'r'))['notes']\n",
    "    \n",
    "    pitch_corrected = pitch\n",
    "    pitch_corrected['pitch'], synthpitch, notes_corrected = correctOctaveErrors(pitch['pitch'], alignednotes)\n",
    "    \n",
    "    for key in pitch_corrected.keys():\n",
    "        try:\n",
    "            pitch_corrected[key] = pitch_corrected[key].tolist() \n",
    "        except:\n",
    "            pass\n",
    "    \n",
    "    json.dump(pitch_corrected, open(sp, 'w'), indent=4)\n",
    "    json.dump({'notes': notes_corrected}, open(sn, 'w'), indent=4)"
   ]
  },
  {
   "cell_type": "code",
   "execution_count": null,
   "metadata": {
    "collapsed": true
   },
   "outputs": [],
   "source": []
  }
 ],
 "metadata": {
  "kernelspec": {
   "display_name": "Python 2",
   "language": "python",
   "name": "python2"
  },
  "language_info": {
   "codemirror_mode": {
    "name": "ipython",
    "version": 2
   },
   "file_extension": ".py",
   "mimetype": "text/x-python",
   "name": "python",
   "nbconvert_exporter": "python",
   "pygments_lexer": "ipython2",
   "version": "2.7.6"
  }
 },
 "nbformat": 4,
 "nbformat_minor": 0
}
