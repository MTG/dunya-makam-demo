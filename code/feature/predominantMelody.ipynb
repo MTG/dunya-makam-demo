{
 "cells": [
  {
   "cell_type": "code",
   "execution_count": null,
   "metadata": {
    "collapsed": true
   },
   "outputs": [],
   "source": [
    "from compmusic.extractors.makam import pitch\n",
    "from fileoperations.fileoperations import getFileNamesInDir\n",
    "import os\n",
    "import numpy\n"
   ]
  },
  {
   "cell_type": "code",
   "execution_count": null,
   "metadata": {
    "collapsed": false
   },
   "outputs": [],
   "source": [
    "datafolder = '../../data/'\n",
    "audiofiles, audiofolders, audionames = getFileNamesInDir(datafolder, keyword='*.wav')\n",
    "\n",
    "extractor = pitch.PitchExtractMakam()"
   ]
  },
  {
   "cell_type": "code",
   "execution_count": null,
   "metadata": {
    "collapsed": false
   },
   "outputs": [],
   "source": [
    "for afile, afolder, aname in zip(audiofiles, audiofolders, audionames):\n",
    "    print aname\n",
    "\n",
    "    savefile = os.path.join(afolder, 'predominantMelody.mat')\n",
    "    if not os.path.isfile(savefile):\n",
    "        melody = extractor.run('', afile)\n",
    "\n",
    "        # save matlab file\n",
    "        with open(savefile, 'w') as f:\n",
    "            f.write(melody['matlab'])\n"
   ]
  },
  {
   "cell_type": "code",
   "execution_count": null,
   "metadata": {
    "collapsed": true
   },
   "outputs": [],
   "source": []
  }
 ],
 "metadata": {
  "kernelspec": {
   "display_name": "Python 2",
   "language": "python",
   "name": "python2"
  },
  "language_info": {
   "codemirror_mode": {
    "name": "ipython",
    "version": 2
   },
   "file_extension": ".py",
   "mimetype": "text/x-python",
   "name": "python",
   "nbconvert_exporter": "python",
   "pygments_lexer": "ipython2",
   "version": "2.7.9"
  }
 },
 "nbformat": 4,
 "nbformat_minor": 0
}
