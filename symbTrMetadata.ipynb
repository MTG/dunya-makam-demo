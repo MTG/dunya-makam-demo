{
 "cells": [
  {
   "cell_type": "code",
   "execution_count": 1,
   "metadata": {
    "collapsed": false
   },
   "outputs": [],
   "source": [
    "from symbtrdataextractor import extractor\n",
    "from fileoperations.fileoperations import getFileNamesInDir\n",
    "import os\n",
    "import json\n",
    "import pdb"
   ]
  },
  {
   "cell_type": "code",
   "execution_count": 2,
   "metadata": {
    "collapsed": false
   },
   "outputs": [],
   "source": [
    "symbTrfolder = './data'\n",
    "\n",
    "symbtrfiles, symbtrfolders, symbtrnames = getFileNamesInDir(symbTrfolder, keyword = '*.txt')\n",
    "symbtrnames = [os.path.splitext(s)[0] for s in symbtrnames]\n"
   ]
  },
  {
   "cell_type": "code",
   "execution_count": 3,
   "metadata": {
    "collapsed": false
   },
   "outputs": [
    {
     "name": "stdout",
     "output_type": "stream",
     "text": [
      "0 rast--pesrev--devrikebir----giriftzen_asim_bey\n",
      "1 isfahan--sazsemaisi--aksaksemai----tanburi_cemil_bey\n",
      "    Some measures are skipped by the offsets\n",
      "[59.66667, 75.66666, 91.66666]\n",
      "2 pesendide--sazsemaisi--aksaksemai----iii_selim\n",
      "3 muhayyer--sazsemaisi--aksaksemai----tanburi_cemil_bey\n",
      "4 acemasiran--pesrev--devrikebir----dede_salih_efendi\n",
      "5 isfahan--pesrev--devrikebir----tanburi_cemil_bey\n",
      "6 ussak--sazsemaisi--aksaksemai----dede_salih_efendi\n",
      "7 ussak--sarki--aksak--bu_aksam_gun--tatyos_efendi\n",
      "8 acemkurdi--sarki--agiraksak--sevdi_gonlum--nikogos_aga\n",
      "9 nihavent--sarki--aksak--bakmiyor_cesm-i--haci_arif_bey\n"
     ]
    }
   ],
   "source": [
    "for i, (sfile, sfolder, sname) in enumerate(zip(symbtrfiles, symbtrfolders, symbtrnames)):\n",
    "    print str(i) + ' ' + sname\n",
    "    data = extractor.extract(sfile, sname)\n",
    "    \n",
    "    savefile = os.path.join(sfolder, 'scoreMetadata.json')\n",
    "    json.dump(data, open(savefile, 'w'), indent=4)\n"
   ]
  }
 ],
 "metadata": {
  "kernelspec": {
   "display_name": "Python 2",
   "language": "python",
   "name": "python2"
  },
  "language_info": {
   "codemirror_mode": {
    "name": "ipython",
    "version": 2
   },
   "file_extension": ".py",
   "mimetype": "text/x-python",
   "name": "python",
   "nbconvert_exporter": "python",
   "pygments_lexer": "ipython2",
   "version": "2.7.6"
  }
 },
 "nbformat": 4,
 "nbformat_minor": 0
}
